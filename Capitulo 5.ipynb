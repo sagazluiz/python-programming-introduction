{
 "cells": [
  {
   "cell_type": "code",
   "execution_count": null,
   "metadata": {},
   "outputs": [],
   "source": [
    "# Repetições\n",
    "# Escrevendo um número três vezes utilizando while\n",
    "x = 1\n",
    "while x <= 3:\n",
    "    print(x)\n",
    "    x = x + 1"
   ]
  },
  {
   "cell_type": "code",
   "execution_count": null,
   "metadata": {},
   "outputs": [],
   "source": [
    "# Exiba números de 1 a 100\n",
    "x = 1\n",
    "while x <= 100:\n",
    "    print(x)\n",
    "    x = x + 1"
   ]
  },
  {
   "cell_type": "code",
   "execution_count": null,
   "metadata": {},
   "outputs": [],
   "source": [
    "# Exiba números de 50 a 100\n",
    "x = 50\n",
    "while x <= 100:\n",
    "    print(x)\n",
    "    x = x + 1"
   ]
  },
  {
   "cell_type": "code",
   "execution_count": null,
   "metadata": {},
   "outputs": [],
   "source": [
    "# 5.1 Contadores\n",
    "# Faça um programa para fazer a contagem regressiva de um foguete. O programa deve imprimir 10, 9, 8 ...1,0 e Fogo! na tela.\n",
    "x = 10\n",
    "while x > 0:\n",
    "    print(x)\n",
    "    x = x -1\n",
    "if x == 0:\n",
    "        print(\"Fogo!\")"
   ]
  },
  {
   "cell_type": "code",
   "execution_count": null,
   "metadata": {},
   "outputs": [],
   "source": [
    "# Programa onde o usuário define o último número a imprimir\n",
    "fim = int(input(\"Digite o último número a imprimir: \"))\n",
    "x = 1\n",
    "while x < fim:\n",
    "    print(x)\n",
    "    x = x + 1\n",
    "    \n"
   ]
  },
  {
   "cell_type": "code",
   "execution_count": 1,
   "metadata": {},
   "outputs": [
    {
     "name": "stdout",
     "output_type": "stream",
     "text": [
      "Digite o último número a imprimir: 2\n",
      "0\n",
      "2\n"
     ]
    }
   ],
   "source": [
    "# Contador apenas com números múltiplos de 2\n",
    "fim = int(input(\"Digite o último número a imprimir: \"))\n",
    "x = 0\n",
    "while x <= fim:\n",
    "    if x % 2==0:\n",
    "        print(x)\n",
    "    x = x + 1"
   ]
  },
  {
   "cell_type": "code",
   "execution_count": 2,
   "metadata": {},
   "outputs": [
    {
     "name": "stdout",
     "output_type": "stream",
     "text": [
      "Digite o último número a imprimir: 10\n",
      "0\n",
      "2\n",
      "4\n",
      "6\n",
      "8\n",
      "10\n"
     ]
    }
   ],
   "source": [
    "# Contador apenas com números múltiplos de 2\n",
    "fim = int(input(\"Digite o último número a imprimir: \"))\n",
    "x = 0\n",
    "while x <= fim:\n",
    "    print(x)\n",
    "    x = x + 2"
   ]
  },
  {
   "cell_type": "code",
   "execution_count": null,
   "metadata": {},
   "outputs": [],
   "source": [
    "# Contador apenas com números ímpares\n",
    "fim = int(input(\"Digite o último número a imprimir: \"))\n",
    "x = 1\n",
    "while x <= fim:\n",
    "    print(x)\n",
    "    x = x + 2"
   ]
  },
  {
   "cell_type": "code",
   "execution_count": null,
   "metadata": {},
   "outputs": [],
   "source": [
    "# Escrevendo os 10 primeiros múltiplos de 3\n",
    "multiplo = 3\n",
    "x = 0\n",
    "while x < multiplo * 10:\n",
    "    print(x)\n",
    "    x = x + 1 * 3\n",
    "    "
   ]
  },
  {
   "cell_type": "code",
   "execution_count": null,
   "metadata": {},
   "outputs": [],
   "source": [
    "# Tabuada com sequência de 10 números adicionados ao digitado pelo usuário. \n",
    "n = int(input(\"Digite um número: \"))\n",
    "x = 1\n",
    "while x <= 10:\n",
    "    print(n + x)\n",
    "    x = x + 1\n"
   ]
  },
  {
   "cell_type": "code",
   "execution_count": 3,
   "metadata": {},
   "outputs": [
    {
     "name": "stdout",
     "output_type": "stream",
     "text": [
      "2 x 1 = 2\n",
      "2 x 2 = 4\n",
      "2 x 3 = 6\n",
      "2 x 4 = 8\n",
      "2 x 5 = 10\n",
      "2 x 6 = 12\n",
      "2 x 7 = 14\n",
      "2 x 8 = 16\n",
      "2 x 9 = 18\n",
      "2 x 10 = 20\n"
     ]
    }
   ],
   "source": [
    "# Exercício 5.6 Altere o programa anterior para exibir os resultados no mesmo formato de uma tabuada: 2x1 = 2, 2x2=4,...\n",
    "m = 2\n",
    "x = 1\n",
    "while x <=10:\n",
    "    print(f\"{m} x {x} = {m * x}\")\n",
    "    x = x + 1\n"
   ]
  },
  {
   "cell_type": "code",
   "execution_count": 4,
   "metadata": {},
   "outputs": [
    {
     "name": "stdout",
     "output_type": "stream",
     "text": [
      "Digite um valor: 1\n",
      "1 x 1 = 1\n",
      "1 x 2 = 2\n",
      "1 x 3 = 3\n",
      "1 x 4 = 4\n",
      "1 x 5 = 5\n",
      "1 x 6 = 6\n",
      "1 x 7 = 7\n",
      "1 x 8 = 8\n",
      "1 x 9 = 9\n",
      "1 x 10 = 10\n"
     ]
    }
   ],
   "source": [
    "# Modifique o programa anterior de modo que o usuário também digite o início da tabuada, em vez de começar de 1 a 10. \n",
    "m = int(input(\"Digite um valor: \"))\n",
    "x = 1\n",
    "while x <=10:\n",
    "    print(f\"{m} x {x} = {m * x}\")\n",
    "    x = x + 1"
   ]
  },
  {
   "cell_type": "code",
   "execution_count": null,
   "metadata": {},
   "outputs": [],
   "source": [
    "# Escreva um programa que leis dois números. Imprima o resultado da multiplicação do primeiro pelo segundo.\n",
    "# Utilize apenas operadores de soma e subtração para calcular o resultado. \n",
    "# Lembre-se de que podemos entender a multiplicação de dois números como somas sucessivas de um deles. \n",
    "# Assim, 4 x 5 = 5 + 5 + 5 + 5 = 4 + 4 + 4 + 4 + 4\n",
    "p = int(input('Digite um número: '))\n",
    "s = int(input('Digite outro número: '))\n",
    "x = 0 # contador\n",
    "r = 0 # acumula o resultado\n",
    "while x < s:\n",
    "    r = r + p\n",
    "    x = x + 1\n",
    "print(r)\n",
    "\n"
   ]
  },
  {
   "cell_type": "code",
   "execution_count": 1,
   "metadata": {},
   "outputs": [
    {
     "name": "stdout",
     "output_type": "stream",
     "text": [
      "Dividendo: 10\n",
      "Divisor: 2\n",
      "10 / 2 = 5 (quociente) 0 (resto)\n"
     ]
    }
   ],
   "source": [
    "# Escreva um programa que leia dois números.\n",
    "# Imprima a divisão inteira do primeiro pelo segundo, assim como o resto da divisão.\n",
    "# Utilize apenas operadores de soma e subtração para calcular o resultado.\n",
    "# Lembre-se de que podemos entender o quociente de divisão de dois números como a quantridade de vezes que podemos retirar\n",
    "#...o divisor do dividendo. Logo, 20 / 4 = 5, uma vez que podemos subtrair 4 cinco vezes de 20. \n",
    "dividendo = int(input(\"Dividendo: \"))\n",
    "divisor = int(input(\"Divisor: \"))\n",
    "quociente = 0\n",
    "x = dividendo\n",
    "while x >= divisor:\n",
    "    x = x - divisor\n",
    "    quociente = quociente + 1\n",
    "resto = x\n",
    "print(f\"{dividendo} / {divisor} = {quociente} (quociente) {resto} (resto)\")\n"
   ]
  },
  {
   "cell_type": "code",
   "execution_count": null,
   "metadata": {},
   "outputs": [],
   "source": [
    "# página 88\n",
    "    # Programa para corrigir um teste de múltipla escolha com três questões. \n",
    "    # A respota da primeira é \"b\"; da segunda é \"a\"; e da terceira , \"d\". \n",
    "    # O programa seguinte conta um ponto a cada resposta. \n",
    "pontos = 0\n",
    "questão = 1\n",
    "while questão <= 3:\n",
    "    resposta = input(f'Resposta da questão {questão}')\n",
    "    if questão == 1 and resposta == 'b':\n",
    "        pontos = pontos + 1\n",
    "    if questão == 2 and resposta == 'a':\n",
    "        pontos = pontos + 1\n",
    "    if questão == 3 and resposta == 'd':\n",
    "        pontos = pontos + 1\n",
    "    questão = questão + 1\n",
    "print(f'O aluno fez {pontos} ponto(s)')"
   ]
  },
  {
   "cell_type": "code",
   "execution_count": null,
   "metadata": {},
   "outputs": [],
   "source": [
    "# Exercício 5.10\n",
    "# Modifique o programa para que aceite respostas com letras maiúsculas. \n",
    "# Por exemplo, questão == 1 and (resposta == \"b\" or resposta ==\"B\")\n",
    "pontos = 0\n",
    "questão = 1\n",
    "while questão <= 3:\n",
    "    resposta = input(f'Resposta da questão {questão}')\n",
    "    if questão == 1 and resposta == 'b' or resposta \"B\":\n",
    "        pontos = pontos + 1\n",
    "    if questão == 2 and resposta == 'a' or resposta \"A\":\n",
    "        pontos = pontos + 1\n",
    "    if questão == 3 and resposta == 'd' or resposta \"D\":\n",
    "        pontos = pontos + 1\n",
    "    questão = questão + 1\n",
    "print(f'O aluno fez {pontos} ponto(s)')"
   ]
  },
  {
   "cell_type": "code",
   "execution_count": 3,
   "metadata": {},
   "outputs": [
    {
     "name": "stdout",
     "output_type": "stream",
     "text": [
      "Digite o 1 número: 1\n",
      "Digite o 2 número: 2\n",
      "Digite o 3 número: 3\n",
      "Digite o 4 número: 4\n",
      "Digite o 5 número: 5\n",
      "Digite o 6 número: 6\n",
      "Digite o 7 número: 7\n",
      "Digite o 8 número: 8\n",
      "Digite o 9 número: 8\n",
      "Digite o 10 número: 8\n",
      "Soma: 52\n"
     ]
    }
   ],
   "source": [
    "# 5.2 Acumuladores\n",
    "# contador tem valor adicionado constante\n",
    "# acumulador tem valor adicionado variável\n",
    "n = 1\n",
    "soma = 0\n",
    "while n <= 10:\n",
    "    x = int(input(f\"Digite o {n} número: \"))\n",
    "    soma = soma + x\n",
    "    n = n + 1\n",
    "print(f\"Soma: {soma}\")"
   ]
  },
  {
   "cell_type": "code",
   "execution_count": null,
   "metadata": {},
   "outputs": [],
   "source": [
    "n = 1\n",
    "soma = 0\n",
    "while n <= 10:\n",
    "    x = int(input(f\"Digite um número: \"))\n",
    "    print(x)\n",
    "    soma = soma + x\n",
    "    n = n + 1\n",
    "print(f\" A média é: {(soma/n):6.2f}\")"
   ]
  },
  {
   "cell_type": "code",
   "execution_count": null,
   "metadata": {},
   "outputs": [],
   "source": [
    "# Outra forma de representar o cálculo de uma média utilizando um acumulador - página 90\n",
    "x = 1\n",
    "soma = 0\n",
    "while x <= 5: \n",
    "    n = int(input(f\"{x} Digite o número: \"))\n",
    "    soma = soma + n # Soma é um acumulador. \n",
    "    x = x + 1\n",
    "print(f\"Média: { soma / 5:5.2f}\")"
   ]
  },
  {
   "cell_type": "code",
   "execution_count": 2,
   "metadata": {},
   "outputs": [
    {
     "name": "stdout",
     "output_type": "stream",
     "text": [
      "Digite o valor de depósito: 100\n",
      "Digite a taxa de juros (valor absoluto): .5\n",
      "Mês: 1  Saldo: 100.00 \n",
      "Mês: 2  Saldo: 100.50 \n",
      "Mês: 3  Saldo: 101.00 \n",
      "Mês: 4  Saldo: 101.51 \n",
      "Mês: 5  Saldo: 102.02 \n",
      "Mês: 6  Saldo: 102.53 \n",
      "Mês: 7  Saldo: 103.04 \n",
      "Mês: 8  Saldo: 103.55 \n",
      "Mês: 9  Saldo: 104.07 \n",
      "Mês: 10  Saldo: 104.59 \n",
      "Mês: 11  Saldo: 105.11 \n",
      "Mês: 12  Saldo: 105.64 \n",
      "Mês: 13  Saldo: 106.17 \n",
      "Mês: 14  Saldo: 106.70 \n",
      "Mês: 15  Saldo: 107.23 \n",
      "Mês: 16  Saldo: 107.77 \n",
      "Mês: 17  Saldo: 108.31 \n",
      "Mês: 18  Saldo: 108.85 \n",
      "Mês: 19  Saldo: 109.39 \n",
      "Mês: 20  Saldo: 109.94 \n",
      "Mês: 21  Saldo: 110.49 \n",
      "Mês: 22  Saldo: 111.04 \n",
      "Mês: 23  Saldo: 111.60 \n",
      "Mês: 24  Saldo: 112.16 \n",
      "O valor inicial foi de:100.0 e o Valor final é de: 112.72\n"
     ]
    }
   ],
   "source": [
    "# Exercício 5.11 \n",
    "# Escreva um programa que pergunte o depósito inicial e a taxa de juros de uma poupança. \n",
    "# Exiba os valores para os 24 primeiros meses. \n",
    "# Excreva o total ganho com os juros no período. \n",
    "deposito = float(input(f\"Digite o valor de depósito: \"))\n",
    "taxa = float(input(\"Digite a taxa de juros (valor absoluto): \"))\n",
    "saldo = deposito\n",
    "mes = 1\n",
    "while mes <= 24:\n",
    "    print(f\"Mês: {mes}  Saldo: {saldo:5.2f} \")\n",
    "    saldo = saldo + (saldo * (taxa / 100))\n",
    "    mes = mes + 1\n",
    "    \n",
    "print(f\"O valor inicial foi de:{deposito} e o Valor final é de: {saldo:5.2f}\")"
   ]
  },
  {
   "cell_type": "code",
   "execution_count": null,
   "metadata": {},
   "outputs": [],
   "source": [
    "##############################################################################\n",
    "# Exercício 5.2\n",
    "#\n",
    "##############################################################################"
   ]
  }
 ],
 "metadata": {
  "kernelspec": {
   "display_name": "Python 3",
   "language": "python",
   "name": "python3"
  },
  "language_info": {
   "codemirror_mode": {
    "name": "ipython",
    "version": 3
   },
   "file_extension": ".py",
   "mimetype": "text/x-python",
   "name": "python",
   "nbconvert_exporter": "python",
   "pygments_lexer": "ipython3",
   "version": "3.7.4"
  }
 },
 "nbformat": 4,
 "nbformat_minor": 2
}
