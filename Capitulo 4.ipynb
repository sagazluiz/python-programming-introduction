{
 "cells": [
  {
   "cell_type": "code",
   "execution_count": 4,
   "metadata": {},
   "outputs": [
    {
     "name": "stdout",
     "output_type": "stream",
     "text": [
      "Digite um valor: 1\n",
      "Digite outro valor: 2\n",
      "O segundo valor é maior\n"
     ]
    }
   ],
   "source": [
    "# Capítulo 4 Condições\n",
    "# Programa 4.1 - Lê dois valores e imprime qual é o maior\n",
    "a = int(input(\"Digite um valor: \"))\n",
    "b = int(input(\"Digite outro valor: \"))\n",
    "if a > b:\n",
    "    print(\"O primeiro valor é maior\")\n",
    "if b > a:\n",
    "    print(\"O segundo valor é maior\")\n"
   ]
  },
  {
   "cell_type": "code",
   "execution_count": 6,
   "metadata": {},
   "outputs": [
    {
     "name": "stdout",
     "output_type": "stream",
     "text": [
      "Digite a idade do veículo: 5\n",
      "Seu carro é velho\n"
     ]
    }
   ],
   "source": [
    "# Programa 4.2 - Carro novo ou velho, dependendo da idade\n",
    "idade = int(input(\"Digite a idade do veículo: \"))\n",
    "if idade <= 3:\n",
    "    print(\"Seu carro é novo\")\n",
    "if idade > 3:\n",
    "    print(\"Seu carro é velho\")"
   ]
  },
  {
   "cell_type": "code",
   "execution_count": 12,
   "metadata": {},
   "outputs": [
    {
     "name": "stdout",
     "output_type": "stream",
     "text": [
      "90\n",
      "Você excedeu o limite de velocidade, sua multa e de R$ 50.0\n"
     ]
    }
   ],
   "source": [
    "# Exercício 4.2 Escreva um programa que pergunte a velocidade do carro de um usuário. Caso ultrapasse 80 km/h exiba uma mensagem dizendo que o usuário foi multado. Nesse caso, exiba o valor da multa, cobrnado R$ 5 por km acima de 80 km/h. \n",
    "velocidade = int(input())\n",
    "multa = 5.0 * (velocidade - 80)\n",
    "if velocidade > 80:\n",
    "    print(f\"Você excedeu o limite de velocidade, sua multa é de R$ {multa}\")\n",
    "\n"
   ]
  },
  {
   "cell_type": "code",
   "execution_count": 16,
   "metadata": {},
   "outputs": [
    {
     "name": "stdout",
     "output_type": "stream",
     "text": [
      "Digite o salário para cálculo do imposto: 3100\n",
      "Salário R$ 3100.00 Imposto a pagar R$ 435.00\n"
     ]
    }
   ],
   "source": [
    "# Programa 4.3 - Cálculo do Imposto de Renda\n",
    "salário = float(input(\"Digite o salário para cálculo do imposto: \"))\n",
    "base = salário\n",
    "imposto = 0\n",
    "if base > 3000:\n",
    "    imposto = imposto + ((base - 3000) * 0.35)\n",
    "    base = 3000\n",
    "if base > 1000:\n",
    "    imposto = imposto + ((base - 1000) * 0.20)\n",
    "print(f\"Salário R$ {salário:6.2f} Imposto a pagar R$ {imposto:6.2f}\")"
   ]
  },
  {
   "cell_type": "code",
   "execution_count": 23,
   "metadata": {},
   "outputs": [
    {
     "name": "stdout",
     "output_type": "stream",
     "text": [
      "Digite um número: 4\n",
      "Digite o segundo número: 8\n",
      "Digite o terceiro número: 6\n",
      "O maior valor é 6\n",
      "O menor valor é 4\n"
     ]
    }
   ],
   "source": [
    "# Exercício 4.3 Escreva um programa que lê três números e que imprima o maior e o menor\n",
    "a = int(input(\"Digite um número: \"))\n",
    "b = int(input(\"Digite o segundo número: \"))\n",
    "c = int(input(\"Digite o terceiro número: \"))\n",
    "maior = 0\n",
    "menor = 0\n",
    "if a > b and c:\n",
    "    maior = a\n",
    "if b > a and c:\n",
    "    maior = b\n",
    "if c > a and b: \n",
    "    maior = c\n",
    "if a < b and c:\n",
    "    menor = a\n",
    "if b < a and c:\n",
    "    menor = b\n",
    "if c < a and b: \n",
    "    menor = c\n",
    "print(f\"O maior valor é {maior}\")\n",
    "print(f\"O menor valor é {menor}\")"
   ]
  },
  {
   "cell_type": "code",
   "execution_count": 27,
   "metadata": {},
   "outputs": [
    {
     "name": "stdout",
     "output_type": "stream",
     "text": [
      "Digite o valor do salário: 1250\n",
      "1437.5\n"
     ]
    }
   ],
   "source": [
    "# Exercício 4.4 Escreva um programa que pergunte o salário do funcionário e calcule o valor do aumento. Para salários superiores a R$ 1.250,00, calcule um aumento de 10%. Para inferiores ou iguais , de 15%. \n",
    "salário = float(input(\"Digite o valor do salário: \"))\n",
    "aumento = 0\n",
    "\n",
    "if salário > 1250:\n",
    "    aumento = salário + (salário * 10 / 100)\n",
    "if salário <= 1250:\n",
    "    aumento = salário + (salário * 15 / 100)\n",
    "print(aumento)\n",
    "\n",
    "\n"
   ]
  },
  {
   "cell_type": "code",
   "execution_count": 31,
   "metadata": {},
   "outputs": [
    {
     "name": "stdout",
     "output_type": "stream",
     "text": [
      "Digite a idade do seu veículo: 5\n",
      "Seu carro é velho\n"
     ]
    }
   ],
   "source": [
    "# Programa 4.4 - Carro novo ou velho, dependendo da idade com else\n",
    "idade = int(input(\"Digite a idade do seu veículo: \"))\n",
    "if idade > 3:\n",
    "    print(\"Seu carro é velho\")\n",
    "else:\n",
    "    print(\"Seu carro é novo\")"
   ]
  },
  {
   "cell_type": "code",
   "execution_count": 38,
   "metadata": {},
   "outputs": [
    {
     "name": "stdout",
     "output_type": "stream",
     "text": [
      "Qual é a distância que pretende percorrer?199\n",
      "Sua passagem custa R$ 99.5\n"
     ]
    }
   ],
   "source": [
    "# Escreva um programa que pergunte a distância que um passageiro pretende percorrer em km. Calcule o preço da passagem cobrando R$ 0,500 para viagens até 200km e R$ 0,45 para viagens mais longas. \n",
    "distância = float(input(\"Qual é a distância que pretende percorrer?\"))\n",
    "preço = 0\n",
    "if distância > 200:\n",
    "    preço = distância * 0.45\n",
    "else:\n",
    "    preço = distância * 0.50\n",
    "print(f\"Sua passagem custa R$ {preço}\")"
   ]
  },
  {
   "cell_type": "code",
   "execution_count": 46,
   "metadata": {},
   "outputs": [
    {
     "name": "stdout",
     "output_type": "stream",
     "text": [
      "Quantos minutos você usou esse mês?: 200\n",
      "Você vai pagar esse mês R$  36.00\n"
     ]
    }
   ],
   "source": [
    "# Estruturas aninhadas\n",
    "minutos = int(input(\"Quantos minutos você usou esse mês?: \"))\n",
    "preço = 0\n",
    "if minutos < 200:\n",
    "    preço = 0.20\n",
    "else:\n",
    "    if minutos < 400:\n",
    "        preço = 0.18\n",
    "    else:\n",
    "        preço = 0.15\n",
    "    \n",
    "print(f\"Você vai pagar esse mês R$ {minutos*preço:6.2f}\")"
   ]
  },
  {
   "cell_type": "code",
   "execution_count": 56,
   "metadata": {},
   "outputs": [
    {
     "name": "stdout",
     "output_type": "stream",
     "text": [
      "Digite a categoria do produto: 3\n",
      "23.0\n"
     ]
    }
   ],
   "source": [
    "# 4.6 Categoria de produto e preço\\\n",
    "categoria = float(input(\"Digite a categoria do produto: \"))\n",
    "if categoria == 1:\n",
    "    preço = 10.0\n",
    "else:\n",
    "    if categoria == 2:\n",
    "        preço = 18.0\n",
    "    else:\n",
    "        if categoria == 3:\n",
    "            preço = 23.0\n",
    "        else:\n",
    "            if categoria == 4:\n",
    "                preço = 26.0\n",
    "            else:\n",
    "                if categoria == 5:\n",
    "                    preço = 31.0\n",
    "                else:\n",
    "                    print(\"Categoria inválida. Digite um valor entre 1 e 5\")\n",
    "                    preço = 0\n",
    "print(preço)\n",
    "                \n",
    "                \n",
    "                "
   ]
  },
  {
   "cell_type": "code",
   "execution_count": 63,
   "metadata": {},
   "outputs": [
    {
     "name": "stdout",
     "output_type": "stream",
     "text": [
      "Digite a categoria do produto: 6\n",
      "Categoria inválida. Digite um valor entre 1 e 5\n",
      "0\n"
     ]
    }
   ],
   "source": [
    "# 4.6 Categoria de produto e preço com elif\n",
    "categoria = float(input(\"Digite a categoria do produto: \"))\n",
    "if categoria == 1:\n",
    "    preço = 10.0\n",
    "elif categoria == 2:\n",
    "        preço = 18.0\n",
    "elif categoria == 3:\n",
    "        preço = 23.0\n",
    "elif categoria == 4:\n",
    "        preço = 26.0\n",
    "elif categoria == 5:\n",
    "        preço = 31.0\n",
    "else:\n",
    "    print(\"Categoria inválida. Digite um valor entre 1 e 5\")\n",
    "    preço = 0\n",
    "print(preço)\n",
    "             "
   ]
  },
  {
   "cell_type": "code",
   "execution_count": 7,
   "metadata": {},
   "outputs": [
    {
     "name": "stdout",
     "output_type": "stream",
     "text": [
      "Digite um número: 20\n",
      "Digite outro número: 30\n",
      "Digite 1 para soma, 2 para subtração e 3 para multplicação3\n",
      "600\n"
     ]
    }
   ],
   "source": [
    "# Exrcício 4.8 Escreva um programa que leia dois números e que pergunte qual oeração você deseja realizar. Vocês deve porder calcular soma(+), (-) subtração, multlicação(*) e divisão (/). Exiba o resultado da operação solicitada. \n",
    "um = int(input(\"Digite um número: \"))\n",
    "dois = int(input(\"Digite outro número: \"))\n",
    "operacao = int(input(\"Digite 1 para soma, 2 para subtração e 3 para multplicação\"))\n",
    "item = 0\n",
    "\n",
    "if operacao == 1:\n",
    "    soma = um + dois\n",
    "    print(soma)\n",
    "elif operacao == 2:\n",
    "    subtracao = um - dois\n",
    "    print(subtracao)\n",
    "elif operacao == 3:\n",
    "    multiplicacao = um * dois\n",
    "    print(multiplicacao)\n",
    "else:\n",
    "    print(\"Oção inválida. Digite uma valor entre 1 e 2.\")\n",
    "\n",
    "\n"
   ]
  },
  {
   "cell_type": "code",
   "execution_count": 15,
   "metadata": {},
   "outputs": [
    {
     "name": "stdout",
     "output_type": "stream",
     "text": [
      "Digite o valor da casa que pretende comprar: 200000\n",
      "Digite seu salário: 1200\n",
      "Digite em quantos anos pretende pagar: 36\n",
      "Infelizmente não é possível conceder esse empréstimo.\n"
     ]
    }
   ],
   "source": [
    "# Exercício 4.9 Escreva um programa para aprovar um empréstimo bancário para compra de uma casa. O programa deve perguntar o valor da casa a compar, o salário e quantidade de anos a pargar. O valor da prestção mensal não pode ser superior a 30% do salário. Calcule o valor da prestação como sendo o valor da casas a comprar dividdo pelo número de meses a pagar.\n",
    "valor_casa = float(input(\"Digite o valor da casa que pretende comprar: \"))\n",
    "salario = float(input(\"Digite seu salário: \"))\n",
    "anos = float(input(\"Digite em quantos anos pretende pagar: \"))\n",
    "prestacao = valor_casa/(anos*12)\n",
    "\n",
    "if prestacao > salario/3:\n",
    "    print(\"Infelizmente não é possível conceder esse empréstimo.\")\n",
    "else:\n",
    "    print(f\"Sua prestação é de R$ {prestacao:6.2f}\")\n",
    "\n",
    "\n"
   ]
  },
  {
   "cell_type": "code",
   "execution_count": 34,
   "metadata": {},
   "outputs": [
    {
     "name": "stdout",
     "output_type": "stream",
     "text": [
      "Informe o consumo mensal: 10000\n",
      "Informe o tipo de imovel, sendo R - para Residência, I - indústria e C - ComércioI\n",
      "O valor de sua fatura é de:R$ 6000.00\n"
     ]
    }
   ],
   "source": [
    "# Exercício 4.10 Escreve um programa que calcule o preço a pagar pelo fonercencimento de energia elétrica. Pergunte a queantidade de kwh consumida e o tipo de inslação: R para residências, I para indústrias e C para come´rcios. Calcule o preço a pagar de acordo com a tabela a seguir. \n",
    "kwh = float(input(\"Informe o consumo mensal: \"))\n",
    "tipo_imovel = input(\"Informe o tipo de imovel, sendo R - para Residência, I - indústria e C - Comércio\")\n",
    "fatura = 0\n",
    "\n",
    "if tipo_imovel == \"R\":\n",
    "    if kwh < 500:\n",
    "            fatura = kwh * 0.40\n",
    "    else:        \n",
    "        fatura = kwh * 0.65\n",
    "        print(fatura)\n",
    "elif tipo_imovel == \"C\":\n",
    "    if kwh < 1000:\n",
    "            fatura = kwh * 0.55\n",
    "    else:        \n",
    "        fatura = kwh * 0.60\n",
    "elif tipo_imovel == \"I\":\n",
    "    if kwh < 5000:\n",
    "            fatura = kwh * 0.55\n",
    "    else:        \n",
    "        fatura = kwh * 0.60   \n",
    "else:\n",
    "    print(\"erro\")\n",
    "\n",
    "print(f\"O valor de sua fatura é de:R$ {fatura:6.2f}\")"
   ]
  }
 ],
 "metadata": {
  "kernelspec": {
   "display_name": "Python 3",
   "language": "python",
   "name": "python3"
  },
  "language_info": {
   "codemirror_mode": {
    "name": "ipython",
    "version": 3
   },
   "file_extension": ".py",
   "mimetype": "text/x-python",
   "name": "python",
   "nbconvert_exporter": "python",
   "pygments_lexer": "ipython3",
   "version": "3.7.4"
  }
 },
 "nbformat": 4,
 "nbformat_minor": 2
}
